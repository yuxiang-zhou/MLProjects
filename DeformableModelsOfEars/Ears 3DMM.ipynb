{
 "cells": [
  {
   "cell_type": "code",
   "execution_count": 1,
   "metadata": {},
   "outputs": [],
   "source": [
    "%gui qt4\n",
    "import pyface.qt\n",
    "\n",
    "%matplotlib inline"
   ]
  },
  {
   "cell_type": "code",
   "execution_count": 2,
   "metadata": {},
   "outputs": [],
   "source": [
    "import menpo3d.visualize\n",
    "import numpy as np\n",
    "import menpo.io as mio\n",
    "import menpo3d.io as m3io\n",
    "import itertools\n",
    "\n",
    "# from menpo3d import correspond\n",
    "from pathlib import Path\n",
    "from menpo.model import PCAModel\n",
    "from menpo.shape import PointCloud, TriMesh, ColouredTriMesh\n",
    "from menpo.transform import AlignmentSimilarity, Translation\n",
    "from menpo.visualize import print_progress"
   ]
  },
  {
   "cell_type": "markdown",
   "metadata": {},
   "source": [
    "### Build High Res correspondence"
   ]
  },
  {
   "cell_type": "code",
   "execution_count": 3,
   "metadata": {},
   "outputs": [],
   "source": [
    "ear_hres_db_path = Path('/vol/atlas/databases/ear/SymareDatabaseTenSubjects/Meshes/HighResolution/LeftEar/')"
   ]
  },
  {
   "cell_type": "raw",
   "metadata": {
    "collapsed": true
   },
   "source": [
    "\n",
    "\n",
    "l_ear_meshes = m3io.import_meshes(ear_hres_db_path)\n",
    "\n",
    "template_ear_model = l_ear_meshes[np.argmin([m.n_points for m in l_ear_meshes])]\n",
    "\n",
    "aligned_ears = [correspond.non_rigid_icp(template_ear_model, l_ear_mesh) for l_ear_mesh in l_ear_meshes]\n",
    "\n",
    "# mio.export_pickle(aligned_ears, '/vol/atlas/databases/ear/3DMM_EAR/high_res_aligned_ears.pkl')"
   ]
  },
  {
   "cell_type": "code",
   "execution_count": null,
   "metadata": {},
   "outputs": [],
   "source": [
    "aligned_ears = mio.import_pickle('/vol/atlas/databases/ear/3DMM_EAR/high_res_aligned_ears.pkl')"
   ]
  },
  {
   "cell_type": "code",
   "execution_count": null,
   "metadata": {},
   "outputs": [],
   "source": [
    "centre = np.concatenate([ae.points for ae in aligned_ears]).mean(axis=0)\n",
    "centring_trans = Translation(-centre)\n",
    "\n",
    "pca_ear_3d = PCAModel([centring_trans.apply(ae) for ae in aligned_ears])\n",
    "\n",
    "mean_ear_model = pca_ear_3d.mean()\n",
    "# mean_ear_model.view()"
   ]
  },
  {
   "cell_type": "markdown",
   "metadata": {
    "collapsed": true
   },
   "source": [
    "### Build Low Res Correspondence"
   ]
  },
  {
   "cell_type": "markdown",
   "metadata": {},
   "source": [
    "#### index generating"
   ]
  },
  {
   "cell_type": "raw",
   "metadata": {},
   "source": [
    "sample_head_model = m3io.import_mesh('./full_head_sample.obj')\n",
    "print(sample_head_model.n_points)\n",
    "# sample_head_model.view()\n",
    "\n",
    "sparse_ear = m3io.import_mesh('/vol/atlas/databases/ear/3DMM_EAR/sparse_ear.obj')\n",
    "sparse_ear.view_landmarks()\n",
    "sparse_lms_index = np.argmin(sparse_ear.landmarks['LJSON'].distance_to(sparse_ear), axis=1)\n",
    "sparse_trilist = sparse_ear.trilist\n",
    "\n",
    "dense_ear = m3io.import_mesh('/vol/atlas/databases/ear/3DMM_EAR/ear_mean.obj')\n",
    "dense_ear.view_landmarks()\n",
    "dense_lms_index = np.argmin(dense_ear.landmarks['LJSON'].distance_to(dense_ear), axis=1)\n",
    "dense_ear = m3io.import_mesh('/vol/atlas/databases/ear/3DMM_EAR/ear_mean_centred.obj')\n",
    "\n",
    "matching_indexes = []\n",
    "for point in sparse_ear.points:\n",
    "    matching_indexes.append(np.argwhere((np.abs(sample_head_model.points - point) < 1e-5).all(axis=1)))\n",
    "    \n",
    "matching_indexes = np.concatenate(matching_indexes).squeeze()\n",
    "\n",
    "\n",
    "from scipy.spatial import Delaunay\n",
    "trilist = Delaunay(dense_ear.points[dense_lms_index,:2]).simplices\n",
    "\n",
    "data = [dense_ear, sparse_trilist, trilist, sparse_lms_index, dense_lms_index, matching_indexes]\n",
    "\n",
    "mio.export_pickle(data, './global_variable.pkl', overwrite=True)"
   ]
  },
  {
   "cell_type": "code",
   "execution_count": null,
   "metadata": {},
   "outputs": [],
   "source": [
    "[dense_ear, sparse_trilist, trilist, sparse_lms_index, dense_lms_index, matching_indexes] = mio.import_pickle('./global_variable.pkl')"
   ]
  },
  {
   "cell_type": "markdown",
   "metadata": {},
   "source": [
    "#### dense projecting"
   ]
  },
  {
   "cell_type": "code",
   "execution_count": null,
   "metadata": {},
   "outputs": [],
   "source": [
    "fullhead_db_path = Path('/vol/atlas/homes/yz4009/databases/FullHead/')\n",
    "full_head_models = mio.import_pickles(fullhead_db_path)"
   ]
  },
  {
   "cell_type": "code",
   "execution_count": null,
   "metadata": {},
   "outputs": [],
   "source": [
    "def dense_project(full_head, index, pca_ear_3d=pca_ear_3d, dense_ear=dense_ear, dense_lms_index=dense_lms_index, sparse_lms_index=sparse_lms_index, trilist=trilist, ):\n",
    "    sparse_ear = TriMesh(full_head.points[matching_indexes], trilist=sparse_trilist)\n",
    "    \n",
    "    sparse_lms = TriMesh(sparse_ear.points[sparse_lms_index], trilist=trilist)\n",
    "    dense_lms = TriMesh(dense_ear.points[dense_lms_index], trilist=trilist)\n",
    "\n",
    "    transform_sparse = AlignmentSimilarity(\n",
    "        sparse_lms, dense_lms\n",
    "    )\n",
    "    \n",
    "#     sparse_aligned_landmark = correspond.non_rigid_icp(\n",
    "#         dense_lms, transform_sparse.apply(sparse_lms)\n",
    "#     )\n",
    "    \n",
    "    sparse_aligned_landmark = transform_sparse.apply(sparse_lms)\n",
    "\n",
    "    components_index = np.concatenate([dense_lms_index[:,None], dense_lms_index[:,None] + 1 , dense_lms_index[:,None] + 2], axis=1).flatten()\n",
    "    weights = np.dot(sparse_aligned_landmark.points.flatten()[None, :], pca_ear_3d.components.T[components_index])\n",
    "\n",
    "    projection = pca_ear_3d.instance_vectors(weights, normalized_weights=True)\n",
    "    projection = pca_ear_3d.template_instance.from_vector(projection)\n",
    "    \n",
    "    m3io.export_mesh(projection, '/vol/atlas/databases/ear/3DMM_EAR/dense_ears/%05d.obj'%index, overwrite=True)\n",
    "    m3io.export_mesh(transform_sparse.apply(sparse_ear), '/vol/atlas/databases/ear/3DMM_EAR/dense_ears/%05d_sparse_aligned.obj'%index, overwrite=True)\n",
    "    "
   ]
  },
  {
   "cell_type": "raw",
   "metadata": {
    "collapsed": true
   },
   "source": [
    "for index, full_head in enumerate(print_progress(full_head_models)):\n",
    "    dense_project(full_head, index)"
   ]
  },
  {
   "cell_type": "markdown",
   "metadata": {
    "collapsed": true
   },
   "source": [
    "### Build High Res Shape Model"
   ]
  },
  {
   "cell_type": "code",
   "execution_count": null,
   "metadata": {},
   "outputs": [],
   "source": [
    "mesh_path = Path('/vol/atlas/databases/ear/3DMM_EAR/dense_ears')"
   ]
  },
  {
   "cell_type": "code",
   "execution_count": null,
   "metadata": {},
   "outputs": [],
   "source": [
    "# aligned_ears = [m3io.import_mesh(p) for p in mesh_path.glob('*.obj') if not '_sparse_aligned' in p.as_posix()]\n",
    "# mio.export_pickle(aligned_ears, '/vol/atlas/databases/ear/3DMM_EAR/high_res_aligned_ears_9k.pkl')\n",
    "\n",
    "# aligned_ears = mio.import_pickle('/vol/atlas/databases/ear/3DMM_EAR/high_res_aligned_ears_9k.pkl')\n",
    "\n",
    "# centre = np.concatenate([ae.points for ae in aligned_ears]).mean(axis=0)\n",
    "# centring_trans = Translation(-centre)\n",
    "\n",
    "# pca_ear_3d = PCAModel([centring_trans.apply(ae) for ae in aligned_ears])\n",
    "\n",
    "pca_ear_3d = mio.import_pickle('/vol/atlas/databases/ear/3DMM_EAR/ear_shape_pca.pkl')\n",
    "mean_ear_model = pca_ear_3d.mean()\n",
    "# mean_ear_model.view()"
   ]
  },
  {
   "cell_type": "code",
   "execution_count": null,
   "metadata": {},
   "outputs": [],
   "source": [
    "dense_lms = PointCloud(mean_ear_model.points[dense_lms_index])\n",
    "# mean_ear_model.landmarks['PTS'] = dense_lms\n",
    "# dense_lms.view()\n",
    "mean_ear_model.view()"
   ]
  },
  {
   "cell_type": "code",
   "execution_count": null,
   "metadata": {},
   "outputs": [],
   "source": [
    "\n",
    "pca_ear_3d.plot_eigenvalues_cumulative_ratio()"
   ]
  },
  {
   "cell_type": "markdown",
   "metadata": {
    "collapsed": true
   },
   "source": [
    "#### shading"
   ]
  },
  {
   "cell_type": "code",
   "execution_count": null,
   "metadata": {},
   "outputs": [],
   "source": [
    "import sys\n",
    "import math"
   ]
  },
  {
   "cell_type": "code",
   "execution_count": null,
   "metadata": {},
   "outputs": [],
   "source": [
    "sys.path.append(\"/vol/phoebe/yz4009/gitdev/face2d3d/\")\n",
    "\n",
    "import shading\n",
    "from menpo3d.rasterize import rasterize_mesh\n",
    "from menpo3d.camera import PerspectiveCamera\n",
    "from menpo.transform import Translation, UniformScale, Rotation, Homogeneous"
   ]
  },
  {
   "cell_type": "code",
   "execution_count": null,
   "metadata": {},
   "outputs": [],
   "source": [
    "def rotation_matrix(angle, direction, point=None):\n",
    "    sina = math.sin(angle)\n",
    "    cosa = math.cos(angle)\n",
    "    direction = np.array(direction).astype(np.float64)\n",
    "    # rotation matrix around unit vector\n",
    "    R = np.diag([cosa, cosa, cosa])\n",
    "    R += np.outer(direction, direction) * (1.0 - cosa)\n",
    "    direction *= sina\n",
    "    R += np.array([[ 0.0,         -direction[2],  direction[1]],\n",
    "                      [ direction[2], 0.0,          -direction[0]],\n",
    "                      [-direction[1], direction[0],  0.0]])\n",
    "    M = np.identity(4)\n",
    "    M[:3, :3] = R\n",
    "    if point is not None:\n",
    "        # rotation not around origin\n",
    "        point = np.array(point[:3], dtype=np.float64, copy=False)\n",
    "        M[:3, 3] = point - np.dot(R, point)\n",
    "    return M"
   ]
  },
  {
   "cell_type": "code",
   "execution_count": null,
   "metadata": {},
   "outputs": [],
   "source": [
    "coloured_mean_ear_model = ColouredTriMesh(mean_ear_model.points, trilist=mean_ear_model.trilist)\n",
    "\n",
    "# convert object to unit sphere\n",
    "coloured_mean_ear_model = Translation(-coloured_mean_ear_model.centre_of_bounds()).apply(coloured_mean_ear_model)\n",
    "radius = np.linalg.norm(reduce(lambda x,y: x-y, coloured_mean_ear_model.bounds())) / 2\n",
    "coloured_mean_ear_model = UniformScale(1/radius, 3).apply(coloured_mean_ear_model)\n",
    "# shading inside unit sphere\n",
    "coloured_mean_ear_model = shading.lambertian_shading(coloured_mean_ear_model)\n",
    "\n",
    "# project to image\n",
    "coloured_mean_ear_model = Homogeneous(rotation_matrix(np.deg2rad(-90), [1,0,0])).apply(coloured_mean_ear_model)\n",
    "coloured_mean_ear_model = Homogeneous(rotation_matrix(np.deg2rad(0), [0,1,0])).apply(coloured_mean_ear_model)\n",
    "coloured_mean_ear_model = Homogeneous(rotation_matrix(np.deg2rad(90), [0,0,1])).apply(coloured_mean_ear_model)\n",
    "coloured_mean_ear_model = UniformScale(128,3).apply(coloured_mean_ear_model)\n",
    "coloured_mean_ear_model = Translation([128,128 ,0]).apply(coloured_mean_ear_model)\n",
    "\n",
    "print coloured_mean_ear_model.bounds()\n",
    "\n",
    "img =rasterize_mesh(coloured_mean_ear_model, [256, 256])"
   ]
  },
  {
   "cell_type": "code",
   "execution_count": 20,
   "metadata": {},
   "outputs": [
    {
     "data": {
      "text/plain": [
       "<menpo.visualize.viewmatplotlib.MatplotlibImageViewer2d at 0x115617550>"
      ]
     },
     "execution_count": 20,
     "metadata": {},
     "output_type": "execute_result"
    },
    {
     "data": {
      "image/png": "[encoded data removed]",
      "text/plain": [
       "<matplotlib.figure.Figure at 0x115617610>"
      ]
     },
     "metadata": {},
     "output_type": "display_data"
    }
   ],
   "source": [
    "img.view()"
   ]
  },
  {
   "cell_type": "code",
   "execution_count": null,
   "metadata": {
    "collapsed": true
   },
   "outputs": [],
   "source": []
  }
 ],
 "metadata": {
  "kernelspec": {
   "display_name": "Python 3",
   "language": "python",
   "name": "python3"
  },
  "language_info": {
   "codemirror_mode": {
    "name": "ipython",
    "version": 3
   },
   "file_extension": ".py",
   "mimetype": "text/x-python",
   "name": "python",
   "nbconvert_exporter": "python",
   "pygments_lexer": "ipython3",
   "version": "3.5.5"
  }
 },
 "nbformat": 4,
 "nbformat_minor": 2
}
