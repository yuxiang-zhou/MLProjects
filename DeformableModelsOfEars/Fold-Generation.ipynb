{
 "cells": [
  {
   "cell_type": "markdown",
   "metadata": {},
   "source": [
    "## SVM Classification"
   ]
  },
  {
   "cell_type": "code",
   "execution_count": 1,
   "metadata": {
    "collapsed": false
   },
   "outputs": [
    {
     "name": "stderr",
     "output_type": "stream",
     "text": [
      "ERROR (theano.sandbox.cuda): nvcc compiler not found on $PATH. Check your nvcc installation and try again.\n",
      "Using Theano backend.\n"
     ]
    }
   ],
   "source": [
    "from numpy import linalg\n",
    "from menpo import io as mio\n",
    "from menpo.visualize import print_dynamic\n",
    "from sklearn.utils.fixes import bincount\n",
    "import itertools\n",
    "import warnings\n",
    "from sklearn.utils import check_X_y, check_array\n",
    "from sklearn.utils.extmath import safe_sparse_dot\n",
    "from dAAMs.lda import lda, predict, chunk, n_fold_generate\n",
    "from menpo.feature import igo, hog, no_op, double_igo as digo, dsift, fast_dsift, hellinger_vector_128_dsift\n",
    "from sklearn import svm\n",
    "import numpy as np\n",
    "\n",
    "%matplotlib inline"
   ]
  },
  {
   "cell_type": "markdown",
   "metadata": {
    "collapsed": true
   },
   "source": [
    "### verification generation"
   ]
  },
  {
   "cell_type": "code",
   "execution_count": 2,
   "metadata": {
    "collapsed": true
   },
   "outputs": [],
   "source": [
    "import itertools"
   ]
  },
  {
   "cell_type": "code",
   "execution_count": 35,
   "metadata": {
    "collapsed": true
   },
   "outputs": [],
   "source": [
    "images = mio.import_images(\"/homes/yz4009/wd/databases/ear/EarVerification/VGGEAR/bound/\")"
   ]
  },
  {
   "cell_type": "code",
   "execution_count": 36,
   "metadata": {
    "collapsed": false
   },
   "outputs": [
    {
     "data": {
      "text/plain": [
       "'000-0593.jpg'"
      ]
     },
     "execution_count": 36,
     "metadata": {},
     "output_type": "execute_result"
    }
   ],
   "source": [
    "images[0].path.name"
   ]
  },
  {
   "cell_type": "code",
   "execution_count": 37,
   "metadata": {
    "collapsed": true
   },
   "outputs": [],
   "source": [
    "data = []\n",
    "for img in mio.import_images(\"/homes/yz4009/wd/databases/ear/EarVerification/VGGEAR/bound/\"):\n",
    "    label = int(img.path.stem.split(\"-\")[0])\n",
    "    name = img.path.name\n",
    "    \n",
    "    data.append((label,name))"
   ]
  },
  {
   "cell_type": "code",
   "execution_count": 38,
   "metadata": {
    "collapsed": true
   },
   "outputs": [],
   "source": [
    "def pair_generation(data, n_folds=3):\n",
    "    np.random.seed(10)\n",
    "    n_data = len(data)\n",
    "    n_id = len(np.unique([d[0] for d in data]))\n",
    "    fold_limit = n_data / n_folds\n",
    "    grouped_data = itertools.groupby(data, lambda x:x[0])\n",
    "    \n",
    "    positives = []\n",
    "    negatives = []\n",
    "    \n",
    "    folds = []\n",
    "    \n",
    "    def if_exist(item, lists):\n",
    "        return np.array([item[0] == l and (item[1] == d).all() for l,d in lists]).any()\n",
    "    \n",
    "    def fold_process(pos, neg):\n",
    "        while len(neg) < len(pos) / 2:\n",
    "            r_pos = pos[np.random.randint(0,len(pos))]\n",
    "            \n",
    "            try:\n",
    "                isexist = r_pos in neg\n",
    "            except:\n",
    "                isexist = if_exist(r_pos, neg)\n",
    "            \n",
    "            \n",
    "            if not isexist:\n",
    "#             if not r_pos in neg:\n",
    "                neg.append(r_pos)\n",
    "\n",
    "        pair_negs = []\n",
    "        for r_neg in neg:\n",
    "            found = False\n",
    "            while not found:\n",
    "                r_pos = pos[np.random.randint(0,len(pos))]\n",
    "                if not r_pos[0] == r_neg[0]:\n",
    "                    pair_negs.append(r_pos)\n",
    "                    found = True\n",
    "\n",
    "        return list(zip(pos[::2],pos[1::2])), list(zip(neg,pair_negs))\n",
    "    \n",
    "    for identity,g_it in grouped_data:\n",
    "        \n",
    "        p_list = []\n",
    "        for d in g_it:\n",
    "            p_list.append(d)\n",
    "        \n",
    "        if len(p_list) % 2 > 0:\n",
    "            negatives.append(p_list.pop())\n",
    "            \n",
    "        positives += p_list\n",
    "        \n",
    "        if len(positives) + len(negatives) > fold_limit:\n",
    "            \n",
    "            folds.append(fold_process(positives, negatives))\n",
    "            \n",
    "            positives = []\n",
    "            negatives = []\n",
    "    \n",
    "    folds.append(fold_process(positives, negatives))\n",
    "    \n",
    "    return folds"
   ]
  },
  {
   "cell_type": "code",
   "execution_count": null,
   "metadata": {
    "collapsed": true
   },
   "outputs": [],
   "source": []
  },
  {
   "cell_type": "code",
   "execution_count": 9,
   "metadata": {
    "collapsed": false
   },
   "outputs": [],
   "source": [
    "# data = mio.import_pickle('/homes/yz4009/wd/PickleModel/EarRecognition/LDA-VGG-Data-dsift.pkl')\n",
    "# data = mio.import_pickle('/homes/yz4009/wd/PickleModel/EarRecognition/LDA-VGG-Data-dsift.pkl', encoding='latin1')\n",
    "# data = mio.import_pickle('/homes/yz4009/wd/PickleModel/EarRecognition/LDA-VGG-Data.pkl', encoding='latin1')\n",
    "# data = mio.import_pickle('/homes/yz4009/wd/PickleModel/EarRecognition/VGGEAR-bound-PEP.pkl', encoding='latin1')\n",
    "data = mio.import_pickle('/homes/yz4009/wd/PickleModel/EarRecognition/WPUTEDB-.pkl', encoding='latin1')"
   ]
  },
  {
   "cell_type": "code",
   "execution_count": 39,
   "metadata": {
    "collapsed": false
   },
   "outputs": [
    {
     "name": "stdout",
     "output_type": "stream",
     "text": [
      "CPU times: user 16 ms, sys: 0 ns, total: 16 ms\n",
      "Wall time: 14 ms\n"
     ]
    }
   ],
   "source": [
    "%%time\n",
    "\n",
    "folds = pair_generation(data, n_folds=5)"
   ]
  },
  {
   "cell_type": "code",
   "execution_count": 41,
   "metadata": {
    "collapsed": false
   },
   "outputs": [
    {
     "name": "stdout",
     "output_type": "stream",
     "text": [
      "199\n"
     ]
    }
   ],
   "source": [
    "print(len(folds[0][0]))"
   ]
  },
  {
   "cell_type": "code",
   "execution_count": 42,
   "metadata": {
    "collapsed": false
   },
   "outputs": [],
   "source": [
    "new_folds = []\n",
    "for p,n in folds:\n",
    "    np.random.shuffle(p)\n",
    "    np.random.shuffle(n)\n",
    "    new_folds.append([p[:185],n[:185]])"
   ]
  },
  {
   "cell_type": "code",
   "execution_count": 44,
   "metadata": {
    "collapsed": false
   },
   "outputs": [
    {
     "name": "stdout",
     "output_type": "stream",
     "text": [
      "185\n"
     ]
    }
   ],
   "source": [
    "print(len(new_folds[0][0]))"
   ]
  },
  {
   "cell_type": "code",
   "execution_count": 11,
   "metadata": {
    "collapsed": true
   },
   "outputs": [],
   "source": [
    "mio.export_pickle(folds,'/homes/yz4009/wd/PickleModel/EarRecognition/WPUTEDB-5folds-PEP.pkl', overwrite=True)"
   ]
  },
  {
   "cell_type": "code",
   "execution_count": null,
   "metadata": {
    "collapsed": true
   },
   "outputs": [],
   "source": []
  },
  {
   "cell_type": "code",
   "execution_count": null,
   "metadata": {
    "collapsed": true
   },
   "outputs": [],
   "source": []
  },
  {
   "cell_type": "code",
   "execution_count": 6,
   "metadata": {
    "collapsed": false
   },
   "outputs": [],
   "source": [
    "mio.export_pickle(folds,'/homes/yz4009/wd/PickleModel/EarRecognition/VGGEAR-5folds-PEP.pkl', overwrite=True)"
   ]
  },
  {
   "cell_type": "code",
   "execution_count": 45,
   "metadata": {
    "collapsed": true
   },
   "outputs": [],
   "source": [
    "mio.export_pickle(new_folds,\"/homes/yz4009/wd/databases/ear/EarVerification/VGGEAR/protocol.pkl\")"
   ]
  },
  {
   "cell_type": "code",
   "execution_count": null,
   "metadata": {
    "collapsed": true
   },
   "outputs": [],
   "source": []
  },
  {
   "cell_type": "code",
   "execution_count": 28,
   "metadata": {
    "collapsed": true
   },
   "outputs": [],
   "source": [
    "folds = mio.import_pickle(\"/homes/yz4009/wd/databases/ear/EarVerification/WPUTEDB/protocol-yx.pkl\")"
   ]
  },
  {
   "cell_type": "code",
   "execution_count": 29,
   "metadata": {
    "collapsed": false
   },
   "outputs": [],
   "source": [
    "new_folds = []\n",
    "for pos,neg in folds:\n",
    "    one_fold = []\n",
    "    for (_,i1),(_,i2) in pos[:185]:\n",
    "        one_fold.append([[i1,i2],1])\n",
    "    for (_,i1),(_,i2) in neg[:185]:\n",
    "        one_fold.append([[i1,i2],0])\n",
    "    new_folds.append(one_fold)"
   ]
  },
  {
   "cell_type": "code",
   "execution_count": 33,
   "metadata": {
    "collapsed": true
   },
   "outputs": [],
   "source": [
    "mio.export_pickle(new_folds, \"/homes/yz4009/wd/databases/ear/EarVerification/WPUTEDB/protocol.pkl\", overwrite=True)"
   ]
  },
  {
   "cell_type": "code",
   "execution_count": 32,
   "metadata": {
    "collapsed": false
   },
   "outputs": [
    {
     "data": {
      "text/plain": [
       "370"
      ]
     },
     "execution_count": 32,
     "metadata": {},
     "output_type": "execute_result"
    }
   ],
   "source": [
    "len(new_folds[0])"
   ]
  },
  {
   "cell_type": "code",
   "execution_count": null,
   "metadata": {
    "collapsed": true
   },
   "outputs": [],
   "source": []
  }
 ],
 "metadata": {
  "anaconda-cloud": {},
  "kernelspec": {
   "display_name": "Python [conda env:gitdev]",
   "language": "python",
   "name": "conda-env-gitdev-py"
  },
  "language_info": {
   "codemirror_mode": {
    "name": "ipython",
    "version": 3
   },
   "file_extension": ".py",
   "mimetype": "text/x-python",
   "name": "python",
   "nbconvert_exporter": "python",
   "pygments_lexer": "ipython3",
   "version": "3.5.2"
  }
 },
 "nbformat": 4,
 "nbformat_minor": 0
}
