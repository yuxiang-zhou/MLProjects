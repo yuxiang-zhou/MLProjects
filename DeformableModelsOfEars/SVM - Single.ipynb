{
 "cells": [
  {
   "cell_type": "markdown",
   "metadata": {
    "nbpresent": {
     "id": "de869ffc-beb2-43e4-a2d4-e3b12abf4f02"
    }
   },
   "source": [
    "## SVM Classification"
   ]
  },
  {
   "cell_type": "code",
   "execution_count": 1,
   "metadata": {
    "collapsed": false,
    "nbpresent": {
     "id": "1f3c6732-af47-4824-a039-72098b69f86a"
    }
   },
   "outputs": [
    {
     "name": "stderr",
     "output_type": "stream",
     "text": [
      "ERROR (theano.sandbox.cuda): nvcc compiler not found on $PATH. Check your nvcc installation and try again.\n",
      "Using Theano backend.\n"
     ]
    }
   ],
   "source": [
    "from numpy import linalg\n",
    "from menpo import io as mio\n",
    "from menpo.visualize import print_dynamic\n",
    "from sklearn.utils.fixes import bincount\n",
    "import itertools\n",
    "import warnings\n",
    "from sklearn.utils import check_X_y, check_array\n",
    "from sklearn.utils.extmath import safe_sparse_dot\n",
    "from dAAMs.lda import lda, predict, chunk, n_fold_generate\n",
    "from sklearn import svm\n",
    "\n",
    "%matplotlib inline"
   ]
  },
  {
   "cell_type": "code",
   "execution_count": 2,
   "metadata": {
    "collapsed": true,
    "nbpresent": {
     "id": "a8260f41-8004-43f2-8a79-8caf3eb65a9a"
    }
   },
   "outputs": [],
   "source": [
    "def cross_validation(fdata):\n",
    "    accuracy = 0\n",
    "    for j,test_set in enumerate(fdata):\n",
    "        print('processing {}/{} fold'.format(j+1, len(fdata)))\n",
    "        \n",
    "        train_set = reduce(lambda x,y: x+y, fdata[:j] + fdata[j+1:])\n",
    "        \n",
    "        train_X = map(lambda x:x[-1], train_set)\n",
    "        train_y = map(lambda x:x[0], train_set)\n",
    "        test_X = map(lambda x:x[-1], test_set)\n",
    "        test_y = map(lambda x:x[0], test_set)\n",
    "        \n",
    "        clf = svm.SVC(C=1)\n",
    "        clf.fit(train_X,train_y)\n",
    "        \n",
    "        pred_y = clf.predict(test_X)\n",
    "        \n",
    "        acc = np.sum(test_y == pred_y) / float(len(pred_y))\n",
    "        \n",
    "        print '{}/{} fold acc: {}'.format(j+1, len(fdata), acc)\n",
    "        \n",
    "        accuracy += acc\n",
    "        \n",
    "        del train_set, train_X, train_y, test_X, test_y, pred_y, clf\n",
    "        \n",
    "        \n",
    "    return accuracy / float(len(fdata))"
   ]
  },
  {
   "cell_type": "code",
   "execution_count": null,
   "metadata": {
    "collapsed": true,
    "nbpresent": {
     "id": "9eeedf7f-21b2-4918-b255-22b6e7947622"
    }
   },
   "outputs": [],
   "source": []
  },
  {
   "cell_type": "code",
   "execution_count": null,
   "metadata": {
    "collapsed": true,
    "nbpresent": {
     "id": "f58e8deb-e0fd-40ce-936a-a12342be3afb"
    }
   },
   "outputs": [],
   "source": []
  },
  {
   "cell_type": "code",
   "execution_count": null,
   "metadata": {
    "collapsed": true,
    "nbpresent": {
     "id": "53688120-5b2e-42d0-97b1-095c3c05b42e"
    }
   },
   "outputs": [],
   "source": []
  },
  {
   "cell_type": "markdown",
   "metadata": {
    "nbpresent": {
     "id": "72c63abd-a84e-40a6-96a6-1fe296c31f99"
    }
   },
   "source": [
    "### cross validation test"
   ]
  },
  {
   "cell_type": "markdown",
   "metadata": {
    "nbpresent": {
     "id": "cb6bcbef-f194-4ffe-9bde-15f2cd5d0993"
    }
   },
   "source": [
    "#### WPUTEDB"
   ]
  },
  {
   "cell_type": "code",
   "execution_count": 3,
   "metadata": {
    "collapsed": false,
    "nbpresent": {
     "id": "a298b7dd-3d4e-4782-953e-7225f4eaf4f9"
    }
   },
   "outputs": [],
   "source": [
    "data = mio.import_pickle('/homes/yz4009/wd/PickleModel/EarRecognition/LDA-WPUTEDB-Data-dsift-patch.pkl')"
   ]
  },
  {
   "cell_type": "code",
   "execution_count": 4,
   "metadata": {
    "collapsed": false,
    "nbpresent": {
     "id": "a6a783e1-18a0-4ecc-838e-e8ce787a43b3"
    }
   },
   "outputs": [],
   "source": [
    "fdata = n_fold_generate(data, n_fold=4)"
   ]
  },
  {
   "cell_type": "code",
   "execution_count": null,
   "metadata": {
    "collapsed": false,
    "nbpresent": {
     "id": "12274f7f-8d51-4dd2-a660-9e4736a7c91d"
    }
   },
   "outputs": [
    {
     "name": "stdout",
     "output_type": "stream",
     "text": [
      "processing 1/4 fold\n"
     ]
    }
   ],
   "source": [
    "cross_validation(fdata)"
   ]
  },
  {
   "cell_type": "markdown",
   "metadata": {
    "nbpresent": {
     "id": "ab002988-c693-45c7-8cb8-7b35b58f189c"
    }
   },
   "source": [
    "#### VGG Ear"
   ]
  },
  {
   "cell_type": "code",
   "execution_count": 3,
   "metadata": {
    "collapsed": true,
    "nbpresent": {
     "id": "9238a8ae-246b-4bbc-8184-ef3b47ae2a6c"
    }
   },
   "outputs": [],
   "source": [
    "data = mio.import_pickle('/homes/yz4009/wd/PickleModel/EarRecognition/.pkl')"
   ]
  },
  {
   "cell_type": "code",
   "execution_count": 4,
   "metadata": {
    "collapsed": true,
    "nbpresent": {
     "id": "607470ee-c457-4709-91a2-7a3396ffadbd"
    }
   },
   "outputs": [],
   "source": [
    "fdata = n_fold_generate(data, n_fold=4)"
   ]
  },
  {
   "cell_type": "code",
   "execution_count": null,
   "metadata": {
    "collapsed": false,
    "nbpresent": {
     "id": "6b8ab8be-9eed-4bc9-ae38-f5aff700bf99"
    }
   },
   "outputs": [],
   "source": [
    "cross_validation(fdata)"
   ]
  },
  {
   "cell_type": "markdown",
   "metadata": {
    "nbpresent": {
     "id": "45d01c93-6571-4f49-b28f-ddb37a9969ff"
    }
   },
   "source": [
    "### test "
   ]
  },
  {
   "cell_type": "code",
   "execution_count": 5,
   "metadata": {
    "collapsed": false,
    "nbpresent": {
     "id": "9fdcff2b-170c-4a96-b253-16f80acbdcef"
    }
   },
   "outputs": [],
   "source": [
    "X = []\n",
    "y = []\n",
    "for idx,img in reduce(lambda x,y:x+y, fdata[:3]):\n",
    "    X.append(img)\n",
    "    y.append(idx)"
   ]
  },
  {
   "cell_type": "code",
   "execution_count": 6,
   "metadata": {
    "collapsed": true
   },
   "outputs": [],
   "source": [
    "tx = []\n",
    "ty = []\n",
    "for idx,img in fdata[-1]:\n",
    "    tx.append(img)\n",
    "    ty.append(idx)"
   ]
  },
  {
   "cell_type": "code",
   "execution_count": 15,
   "metadata": {
    "collapsed": false,
    "nbpresent": {
     "id": "23fc2b8f-b3f6-4017-b6c9-dc14bbb655f4"
    }
   },
   "outputs": [
    {
     "name": "stdout",
     "output_type": "stream",
     "text": [
      "CPU times: user 2h 55min 9s, sys: 50.2 s, total: 2h 55min 59s\n",
      "Wall time: 3h 57min 1s\n"
     ]
    }
   ],
   "source": [
    "%%time\n",
    "clf = svm.SVC(C=125)\n",
    "clf.fit(X,y)"
   ]
  },
  {
   "cell_type": "code",
   "execution_count": 16,
   "metadata": {
    "collapsed": false,
    "nbpresent": {
     "id": "50527ede-f1f9-4ead-a1f4-22f8c70f25f7"
    }
   },
   "outputs": [],
   "source": [
    "py = clf.predict(tx)"
   ]
  },
  {
   "cell_type": "code",
   "execution_count": 17,
   "metadata": {
    "collapsed": false,
    "nbpresent": {
     "id": "184881b8-1ece-478e-a284-d93040266ea4"
    }
   },
   "outputs": [
    {
     "data": {
      "text/plain": [
       "0.70663562281722936"
      ]
     },
     "execution_count": 17,
     "metadata": {},
     "output_type": "execute_result"
    }
   ],
   "source": [
    "(py == ty).sum() / float(len(fdata[-1]))"
   ]
  },
  {
   "cell_type": "code",
   "execution_count": 18,
   "metadata": {
    "collapsed": false,
    "nbpresent": {
     "id": "a5d92e8d-d117-4d32-bc59-3954fb72d6bc"
    }
   },
   "outputs": [
    {
     "data": {
      "text/plain": [
       "('c1,c2: 0.7020', 'c5:0.7066 ', 'c25: 0.7066', 'c125: 0.7066')"
      ]
     },
     "execution_count": 18,
     "metadata": {},
     "output_type": "execute_result"
    }
   ],
   "source": [
    "\"c1,c2: 0.7020\",\"c5:0.7066 \", \"c25: 0.7066\", \"c125: 0.7066\""
   ]
  },
  {
   "cell_type": "code",
   "execution_count": null,
   "metadata": {
    "collapsed": true
   },
   "outputs": [],
   "source": []
  }
 ],
 "metadata": {
  "anaconda-cloud": {},
  "kernelspec": {
   "display_name": "Python [default]",
   "language": "python",
   "name": "python2"
  },
  "language_info": {
   "codemirror_mode": {
    "name": "ipython",
    "version": 2
   },
   "file_extension": ".py",
   "mimetype": "text/x-python",
   "name": "python",
   "nbconvert_exporter": "python",
   "pygments_lexer": "ipython2",
   "version": "2.7.12"
  },
  "widgets": {
   "state": {},
   "version": "1.1.2"
  }
 },
 "nbformat": 4,
 "nbformat_minor": 0
}
