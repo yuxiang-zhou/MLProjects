{
 "cells": [
  {
   "cell_type": "code",
   "execution_count": 1,
   "metadata": {
    "collapsed": true
   },
   "outputs": [],
   "source": [
    "%load_ext autoreload\n",
    "%autoreload 2\n",
    "%matplotlib inline"
   ]
  },
  {
   "cell_type": "code",
   "execution_count": 2,
   "metadata": {},
   "outputs": [
    {
     "name": "stderr",
     "output_type": "stream",
     "text": [
      "/vol/phoebe/yz4009/src/miniconda3/envs/gitdev/lib/python3.5/site-packages/scipy/sparse/compressed.py:774: SparseEfficiencyWarning: Changing the sparsity structure of a csr_matrix is expensive. lil_matrix is more efficient.\n",
      "  SparseEfficiencyWarning)\n"
     ]
    }
   ],
   "source": [
    "import numpy as np\n",
    "import scipy\n",
    "import menpo.io as mio\n",
    "import scipy.io as sio\n",
    "import functools\n",
    "\n",
    "from pathlib import Path\n",
    "from matplotlib import pyplot as plt\n",
    "\n",
    "from menpo.image import Image\n",
    "from menpo.shape import PointCloud\n",
    "from menpofit.visualize import plot_cumulative_error_distribution\n",
    "from menpofit.visualize import statistics_table\n",
    "from menpo.visualize.viewmatplotlib import sample_colours_from_colourmap\n",
    "from menpo.visualize import print_progress\n",
    "# deep modules\n",
    "import deepmachine as dm\n",
    "from deepmachine.networks import pose\n",
    "from deepmachine import networks\n",
    "from deepmachine import utils\n",
    "from deepmachine import losses\n",
    "from deepmachine import summary\n",
    "from deepmachine import data_provider\n",
    "from deepmachine import contrib\n",
    "from deepmachine import record_builder\n",
    "from deepmachine import DeepMachine\n",
    "\n",
    "import tensorflow as tf\n",
    "\n",
    "slim = tf.contrib.slim"
   ]
  },
  {
   "cell_type": "markdown",
   "metadata": {},
   "source": [
    "### Convolutional Support Vector Shape"
   ]
  },
  {
   "cell_type": "markdown",
   "metadata": {},
   "source": [
    "### build network"
   ]
  },
  {
   "cell_type": "raw",
   "metadata": {},
   "source": [
    "model_path = './models/denseRegPose/model.ckpt-574050'\n",
    "dense_pose_net = contrib.get_dense_pose_net_old()\n",
    "dense_pose_net.restore_path = model_path\n",
    "\n",
    "dense_pose_net.freeze_inception_graph(3, './models/denseRegPose/freezed.pb')"
   ]
  },
  {
   "cell_type": "code",
   "execution_count": 3,
   "metadata": {},
   "outputs": [],
   "source": [
    "dense_pose_net_pb = DeepMachine()\n",
    "dense_pose_net_pb.load_frozen_inception_graph('./models/denseRegPose/freezed.pb',return_elements=['uv:0'])"
   ]
  },
  {
   "cell_type": "markdown",
   "metadata": {},
   "source": [
    "### Visualisation"
   ]
  },
  {
   "cell_type": "code",
   "execution_count": 4,
   "metadata": {
    "collapsed": true
   },
   "outputs": [],
   "source": [
    "def view_results(original_image, lms_hm_prediction, iuv, pts_predictions):\n",
    "    \n",
    "    plt.close()\n",
    "    f_all = plt.figure(figsize=(10,8))\n",
    "\n",
    "\n",
    "\n",
    "    f = plt.subplot(221)\n",
    "    f.axes.get_xaxis().set_visible(False)\n",
    "    f.axes.get_yaxis().set_visible(False)\n",
    "\n",
    "    img_pixel = original_image.pixels_with_channels_at_back()\n",
    "    plt.imshow(img_pixel)\n",
    "\n",
    "\n",
    "\n",
    "    f = plt.subplot(222)\n",
    "    f.axes.get_xaxis().set_visible(False)\n",
    "    f.axes.get_yaxis().set_visible(False)\n",
    "\n",
    "    hm_pixel = np.mean(lms_hm_prediction.squeeze(), axis=-1)\n",
    "    plt.imshow(hm_pixel)\n",
    "\n",
    "    \n",
    "    f = plt.subplot(223)\n",
    "    f.axes.get_xaxis().set_visible(False)\n",
    "    f.axes.get_yaxis().set_visible(False)\n",
    "\n",
    "\n",
    "    iuv_pixel = utils.convert.iuv_rgb(iuv, 'hsv')\n",
    "    plt.imshow(iuv_pixel)\n",
    "\n",
    "    f = plt.subplot(224)\n",
    "    f.axes.get_xaxis().set_visible(False)\n",
    "    f.axes.get_yaxis().set_visible(False)\n",
    "\n",
    "    plt.scatter(pts_predictions[:,1], pts_predictions[:,0])\n",
    "    plt.imshow(img_pixel * 0.3 + iuv_pixel * 0.7)\n",
    "    \n",
    "    return f_all"
   ]
  },
  {
   "cell_type": "markdown",
   "metadata": {
    "collapsed": true
   },
   "source": [
    "### Custom Image with Bounding Box"
   ]
  },
  {
   "cell_type": "code",
   "execution_count": 5,
   "metadata": {},
   "outputs": [
    {
     "ename": "ValueError",
     "evalue": "/Users/zha/Downloads/WechatIMG62.jpeg is not a file",
     "output_type": "error",
     "traceback": [
      "\u001b[0;31m---------------------------------------------------------------------------\u001b[0m",
      "\u001b[0;31mValueError\u001b[0m                                Traceback (most recent call last)",
      "\u001b[0;32m<ipython-input-5-f3b95a442ac5>\u001b[0m in \u001b[0;36m<module>\u001b[0;34m()\u001b[0m\n\u001b[0;32m----> 1\u001b[0;31m \u001b[0moriginal_image\u001b[0m \u001b[0;34m=\u001b[0m \u001b[0mmio\u001b[0m\u001b[0;34m.\u001b[0m\u001b[0mimport_image\u001b[0m\u001b[0;34m(\u001b[0m\u001b[0;34m'/Users/zha/Downloads/WechatIMG62.jpeg'\u001b[0m\u001b[0;34m)\u001b[0m\u001b[0;34m\u001b[0m\u001b[0m\n\u001b[0m\u001b[1;32m      2\u001b[0m \u001b[0;34m\u001b[0m\u001b[0m\n\u001b[1;32m      3\u001b[0m \u001b[0moriginal_image\u001b[0m\u001b[0;34m,\u001b[0m \u001b[0;34m*\u001b[0m\u001b[0m_\u001b[0m \u001b[0;34m=\u001b[0m \u001b[0mutils\u001b[0m\u001b[0;34m.\u001b[0m\u001b[0mcrop_image_bounding_box\u001b[0m\u001b[0;34m(\u001b[0m\u001b[0moriginal_image\u001b[0m\u001b[0;34m,\u001b[0m \u001b[0mPointCloud\u001b[0m\u001b[0;34m(\u001b[0m\u001b[0;34m[\u001b[0m\u001b[0;34m[\u001b[0m\u001b[0;36m1202\u001b[0m\u001b[0;34m,\u001b[0m \u001b[0;36m1271\u001b[0m\u001b[0;34m]\u001b[0m\u001b[0;34m,\u001b[0m \u001b[0;34m[\u001b[0m\u001b[0;36m2645\u001b[0m\u001b[0;34m,\u001b[0m \u001b[0;36m2752\u001b[0m\u001b[0;34m]\u001b[0m\u001b[0;34m]\u001b[0m\u001b[0;34m)\u001b[0m\u001b[0;34m,\u001b[0m \u001b[0;34m[\u001b[0m\u001b[0;36m384\u001b[0m\u001b[0;34m,\u001b[0m\u001b[0;36m384\u001b[0m\u001b[0;34m]\u001b[0m\u001b[0;34m)\u001b[0m\u001b[0;34m\u001b[0m\u001b[0m\n\u001b[1;32m      4\u001b[0m \u001b[0;34m\u001b[0m\u001b[0m\n\u001b[1;32m      5\u001b[0m \u001b[0;34m\u001b[0m\u001b[0m\n",
      "\u001b[0;32m/vol/phoebe/yz4009/src/miniconda3/envs/gitdev/lib/python3.5/site-packages/menpo/io/input/base.py\u001b[0m in \u001b[0;36mimport_image\u001b[0;34m(filepath, landmark_resolver, normalize, normalise)\u001b[0m\n\u001b[1;32m    261\u001b[0m                    \u001b[0mlandmark_resolver\u001b[0m\u001b[0;34m=\u001b[0m\u001b[0mlandmark_resolver\u001b[0m\u001b[0;34m,\u001b[0m\u001b[0;34m\u001b[0m\u001b[0m\n\u001b[1;32m    262\u001b[0m                    \u001b[0mlandmark_attach_func\u001b[0m\u001b[0;34m=\u001b[0m\u001b[0m_import_object_attach_landmarks\u001b[0m\u001b[0;34m,\u001b[0m\u001b[0;34m\u001b[0m\u001b[0m\n\u001b[0;32m--> 263\u001b[0;31m                    importer_kwargs=kwargs)\n\u001b[0m\u001b[1;32m    264\u001b[0m \u001b[0;34m\u001b[0m\u001b[0m\n\u001b[1;32m    265\u001b[0m \u001b[0;34m\u001b[0m\u001b[0m\n",
      "\u001b[0;32m/vol/phoebe/yz4009/src/miniconda3/envs/gitdev/lib/python3.5/site-packages/menpo/io/input/base.py\u001b[0m in \u001b[0;36m_import\u001b[0;34m(filepath, extensions_map, landmark_resolver, landmark_ext_map, landmark_attach_func, asset, importer_kwargs)\u001b[0m\n\u001b[1;32m    812\u001b[0m     \u001b[0mpath\u001b[0m \u001b[0;34m=\u001b[0m \u001b[0m_norm_path\u001b[0m\u001b[0;34m(\u001b[0m\u001b[0mfilepath\u001b[0m\u001b[0;34m)\u001b[0m\u001b[0;34m\u001b[0m\u001b[0m\n\u001b[1;32m    813\u001b[0m     \u001b[0;32mif\u001b[0m \u001b[0;32mnot\u001b[0m \u001b[0mpath\u001b[0m\u001b[0;34m.\u001b[0m\u001b[0mis_file\u001b[0m\u001b[0;34m(\u001b[0m\u001b[0;34m)\u001b[0m\u001b[0;34m:\u001b[0m\u001b[0;34m\u001b[0m\u001b[0m\n\u001b[0;32m--> 814\u001b[0;31m         \u001b[0;32mraise\u001b[0m \u001b[0mValueError\u001b[0m\u001b[0;34m(\u001b[0m\u001b[0;34m\"{} is not a file\"\u001b[0m\u001b[0;34m.\u001b[0m\u001b[0mformat\u001b[0m\u001b[0;34m(\u001b[0m\u001b[0mpath\u001b[0m\u001b[0;34m)\u001b[0m\u001b[0;34m)\u001b[0m\u001b[0;34m\u001b[0m\u001b[0m\n\u001b[0m\u001b[1;32m    815\u001b[0m \u001b[0;34m\u001b[0m\u001b[0m\n\u001b[1;32m    816\u001b[0m     \u001b[0;31m# below could raise ValueError as well...\u001b[0m\u001b[0;34m\u001b[0m\u001b[0;34m\u001b[0m\u001b[0m\n",
      "\u001b[0;31mValueError\u001b[0m: /Users/zha/Downloads/WechatIMG62.jpeg is not a file"
     ]
    }
   ],
   "source": [
    "original_image = mio.import_image('/Users/zha/Downloads/WechatIMG62.jpeg')\n",
    "\n",
    "original_image, *_ = utils.crop_image_bounding_box(original_image, PointCloud([[1202, 1271], [2645, 2752]]), [384,384])\n",
    "\n",
    "\n",
    "h, w = original_image.shape\n",
    "offset = (384-256)/2\n",
    "\n",
    "original_image = original_image.crop((offset,offset),(offset+256,offset+256))"
   ]
  },
  {
   "cell_type": "code",
   "execution_count": null,
   "metadata": {},
   "outputs": [],
   "source": [
    "input_pixels = original_image.pixels_with_channels_at_back()\n",
    "\n",
    "lms_hm_prediction,iuv = dense_pose_net_pb.run_one(input_pixels[None, ...].astype(np.float32))\n",
    "\n",
    "bsize,h,w,n_ch = lms_hm_prediction.shape\n",
    "lms_hm_prediction_filter = np.stack(list(map(\n",
    "                            lambda x: scipy.ndimage.filters.gaussian_filter(*x),\n",
    "                            zip(lms_hm_prediction.transpose(0,3,1,2).reshape(-1,h,w), [5] * (bsize * n_ch)))))\n",
    "\n",
    "hs = np.argmax(np.max(lms_hm_prediction_filter.squeeze(), 2), 1)\n",
    "ws = np.argmax(np.max(lms_hm_prediction_filter.squeeze(), 1), 1)\n",
    "pts_predictions = np.stack([hs,ws]).T\n",
    "\n",
    "f = view_results(original_image, lms_hm_prediction, iuv, pts_predictions)"
   ]
  },
  {
   "cell_type": "code",
   "execution_count": null,
   "metadata": {
    "collapsed": true
   },
   "outputs": [],
   "source": []
  }
 ],
 "metadata": {
  "anaconda-cloud": {},
  "kernelspec": {
   "display_name": "Python 3",
   "language": "python",
   "name": "python3"
  },
  "language_info": {
   "codemirror_mode": {
    "name": "ipython",
    "version": 3
   },
   "file_extension": ".py",
   "mimetype": "text/x-python",
   "name": "python",
   "nbconvert_exporter": "python",
   "pygments_lexer": "ipython3",
   "version": "3.5.4"
  }
 },
 "nbformat": 4,
 "nbformat_minor": 1
}
